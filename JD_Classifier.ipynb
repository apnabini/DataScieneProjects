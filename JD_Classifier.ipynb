{
 "cells": [
  {
   "cell_type": "code",
   "execution_count": 1,
   "metadata": {},
   "outputs": [
    {
     "data": {
      "text/html": [
       "<style>body {\n",
       "    margin: 0;\n",
       "    font-family: Helvetica;\n",
       "}\n",
       "table.dataframe {\n",
       "    border-collapse: collapse;\n",
       "    border: none;\n",
       "}\n",
       "table.dataframe tr {\n",
       "    border: none;\n",
       "}\n",
       "table.dataframe td, table.dataframe th {\n",
       "    margin: 0;\n",
       "    border: 1px solid white;\n",
       "    padding-left: 0.25em;\n",
       "    padding-right: 0.25em;\n",
       "}\n",
       "table.dataframe th:not(:empty) {\n",
       "    background-color: #fec;\n",
       "    text-align: left;\n",
       "    font-weight: normal;\n",
       "}\n",
       "table.dataframe tr:nth-child(2) th:empty {\n",
       "    border-left: none;\n",
       "    border-right: 1px dashed #888;\n",
       "}\n",
       "table.dataframe td {\n",
       "    border: 2px solid #ccf;\n",
       "    background-color: #f4f4ff;\n",
       "}\n",
       "h4 {\n",
       "    color: white;\n",
       "    background-color: grey;\n",
       "    padding: 0.3em;\n",
       "}\n",
       "h4 {\n",
       "    color: white;\n",
       "    background-color: teal;\n",
       "    padding: 0.3em;\n",
       "}\n",
       "h3 {\n",
       "    color: white;\n",
       "    background-color: MEDIUMSEAGREEN;\n",
       "    padding: 0.5em;\n",
       "}\n",
       "h2 {\n",
       "    color: white;\n",
       "    background-color: DARKORANGE;\n",
       "    padding: 0.6em;\n",
       "}\n",
       "\n",
       "h1 {\n",
       "    color: white;\n",
       "    background-color: black;\n",
       "    padding: 0.7em;\n",
       "}\n",
       "</style>"
      ],
      "text/plain": [
       "<IPython.core.display.HTML object>"
      ]
     },
     "execution_count": 1,
     "metadata": {},
     "output_type": "execute_result"
    }
   ],
   "source": [
    "from IPython.core.display import HTML\n",
    "css = open('style-table.css').read() + open('style-notebook.css').read()\n",
    "HTML('<style>{}</style>'.format(css))"
   ]
  },
  {
   "cell_type": "markdown",
   "metadata": {},
   "source": [
    "    Using exisitng labeled JD we want to create a muticlass classificatino model to predict the industry of JD.\n",
    "    Steps:\n",
    "    1. Text Cleaning\n",
    "    2. Feature creation - tf-idf\n",
    "    3. Modelling - Naive Bayes, Logistic Regression, Random forest"
   ]
  },
  {
   "cell_type": "markdown",
   "metadata": {},
   "source": [
    "### Import libraries "
   ]
  },
  {
   "cell_type": "code",
   "execution_count": 2,
   "metadata": {
    "collapsed": true
   },
   "outputs": [],
   "source": [
    "import numpy as np                    # numerical cumputations\n",
    "import pandas as pd                   # data processing\n",
    "import re                             # Regular expression\n",
    "import os                             # operating system\n",
    "\n",
    "\n",
    "from nltk.corpus import stopwords\n",
    "eng_stopwords = stopwords.words('english')\n",
    "\n",
    "from sklearn.feature_extraction.text import TfidfVectorizer, CountVectorizer, TfidfTransformer   # Modelling\n",
    "\n",
    "\n",
    "import matplotlib.pyplot as plt\n",
    "%matplotlib inline\n",
    "\n",
    "\n",
    "from matplotlib.pyplot import rcParams\n",
    "rcParams['figure.figsize'] = 8,6\n",
    "\n",
    "pd.set_option('max_colwidth', 6000)"
   ]
  },
  {
   "cell_type": "markdown",
   "metadata": {},
   "source": [
    "### Data collection "
   ]
  },
  {
   "cell_type": "markdown",
   "metadata": {},
   "source": [
    "#### removing observations without data "
   ]
  },
  {
   "cell_type": "code",
   "execution_count": 4,
   "metadata": {},
   "outputs": [
    {
     "data": {
      "text/html": [
       "<div>\n",
       "<style>\n",
       "    .dataframe thead tr:only-child th {\n",
       "        text-align: right;\n",
       "    }\n",
       "\n",
       "    .dataframe thead th {\n",
       "        text-align: left;\n",
       "    }\n",
       "\n",
       "    .dataframe tbody tr th {\n",
       "        vertical-align: top;\n",
       "    }\n",
       "</style>\n",
       "<table border=\"1\" class=\"dataframe\">\n",
       "  <thead>\n",
       "    <tr style=\"text-align: right;\">\n",
       "      <th></th>\n",
       "      <th>label</th>\n",
       "      <th>text</th>\n",
       "    </tr>\n",
       "  </thead>\n",
       "  <tbody>\n",
       "    <tr>\n",
       "      <th>0</th>\n",
       "      <td>Banking</td>\n",
       "      <td>Account Manager - Pensions Salary: circa. ┬ú31,000 + competitive commission scheme + benefits (28 days' holiday + annual bonus + pension + flex benefits) Work for the largest mutual life, pensions and investment company in the UK, with Group funds under management of ┬ú100 billion. Group businesses provide around 9.1 million policies and employ 3,253 people. (Figures quoted are as at 31 December 2016). We have an exciting Permanent opportunity for an Account Manager to join the Intermediary Account Management Team in Edinburgh in a high performing, hybrid panel role. Working from a central Edinburgh based office, the purpose of this role is to deliver agreed new business targets from an existing panel of Intermediaries through providing a high level of service , maintaining excellent working relationships with key clients and promoting the provider's proposition. Responsibilities: Deliver personal sales targets from a panel of Intermediaries Develop new Intermediary relationships Deliver sales presentations to Intermediaries promoting new and existing sales opportunities Identify and promote new sales opportunities by telephone &amp; face to face Develop and maintain strong business relationships with panel Intermediaries Ensure a smooth efficient and professional sales process for the customer Work with Intermediaries to ensure an excellent and professional service is provided Engage, align and work with appropriate colleagues and resources to maximise profitable new business production and to protect existing business Communicate requirements clearly and effectively with colleagues to ensure customer needs are identified and satisfied Create, maintain and deliver plan to develop a panel of intermediaries Skills, Qualifications &amp; Experience: Experience within a similar sales or account management role within Pensions Knowledge and understanding of the IFA / Intermediary market RO1 &amp; RO4 Qualifications would be advantageous Confident in understanding technology used by advisers including research, analysis systems, platforms etc Experience in dealing with intermediaries in a face to face or telephone role Excellent communication skills both written and verbal Ability to discuss and debate industry issues, technical &amp; legislative updates in a competent and influential manner To apply, please use the 'Apply Online' link below. For any further queries regarding the role, please contact ************************************** or call ************ Apply Now 1-Click Apply Ref no: 105707-AMUPEN_2657339941 This vacancy is being advertised by Sanderson Recruitment. The services advertised by Sanderson Recruitment are those of an Employment Agency.</td>\n",
       "    </tr>\n",
       "  </tbody>\n",
       "</table>\n",
       "</div>"
      ],
      "text/plain": [
       "     label  \\\n",
       "0  Banking   \n",
       "\n",
       "                                                                                                                                                                                                                                                                                                                                                                                                                                                                                                                                                                                                                                                                                                                                                                                                                                                                                                                                                                                                                                                                                                                                                                                                                                                                                                                                                                                                                                                                                                                                                                                                                                                                                                                                                                                                                                                                                                                                                                                                                                                                                                                                                                                                                                                                                                                                                                                                                                                                                                                                                                                                                                                                                                                                                                                        text  \n",
       "0  Account Manager - Pensions Salary: circa. ┬ú31,000 + competitive commission scheme + benefits (28 days' holiday + annual bonus + pension + flex benefits) Work for the largest mutual life, pensions and investment company in the UK, with Group funds under management of ┬ú100 billion. Group businesses provide around 9.1 million policies and employ 3,253 people. (Figures quoted are as at 31 December 2016). We have an exciting Permanent opportunity for an Account Manager to join the Intermediary Account Management Team in Edinburgh in a high performing, hybrid panel role. Working from a central Edinburgh based office, the purpose of this role is to deliver agreed new business targets from an existing panel of Intermediaries through providing a high level of service , maintaining excellent working relationships with key clients and promoting the provider's proposition. Responsibilities: Deliver personal sales targets from a panel of Intermediaries Develop new Intermediary relationships Deliver sales presentations to Intermediaries promoting new and existing sales opportunities Identify and promote new sales opportunities by telephone & face to face Develop and maintain strong business relationships with panel Intermediaries Ensure a smooth efficient and professional sales process for the customer Work with Intermediaries to ensure an excellent and professional service is provided Engage, align and work with appropriate colleagues and resources to maximise profitable new business production and to protect existing business Communicate requirements clearly and effectively with colleagues to ensure customer needs are identified and satisfied Create, maintain and deliver plan to develop a panel of intermediaries Skills, Qualifications & Experience: Experience within a similar sales or account management role within Pensions Knowledge and understanding of the IFA / Intermediary market RO1 & RO4 Qualifications would be advantageous Confident in understanding technology used by advisers including research, analysis systems, platforms etc Experience in dealing with intermediaries in a face to face or telephone role Excellent communication skills both written and verbal Ability to discuss and debate industry issues, technical & legislative updates in a competent and influential manner To apply, please use the 'Apply Online' link below. For any further queries regarding the role, please contact ************************************** or call ************ Apply Now 1-Click Apply Ref no: 105707-AMUPEN_2657339941 This vacancy is being advertised by Sanderson Recruitment. The services advertised by Sanderson Recruitment are those of an Employment Agency.  "
      ]
     },
     "execution_count": 4,
     "metadata": {},
     "output_type": "execute_result"
    }
   ],
   "source": [
    "data = pd.read_csv('jobdescription.csv', encoding='cp437')\n",
    "data.head(1)"
   ]
  },
  {
   "cell_type": "markdown",
   "metadata": {},
   "source": [
    "# Data Preprocessing "
   ]
  },
  {
   "cell_type": "markdown",
   "metadata": {},
   "source": [
    "####  Clean data using regular expression"
   ]
  },
  {
   "cell_type": "code",
   "execution_count": 5,
   "metadata": {},
   "outputs": [
    {
     "data": {
      "text/html": [
       "<div>\n",
       "<style>\n",
       "    .dataframe thead tr:only-child th {\n",
       "        text-align: right;\n",
       "    }\n",
       "\n",
       "    .dataframe thead th {\n",
       "        text-align: left;\n",
       "    }\n",
       "\n",
       "    .dataframe tbody tr th {\n",
       "        vertical-align: top;\n",
       "    }\n",
       "</style>\n",
       "<table border=\"1\" class=\"dataframe\">\n",
       "  <thead>\n",
       "    <tr style=\"text-align: right;\">\n",
       "      <th></th>\n",
       "      <th>label</th>\n",
       "      <th>text</th>\n",
       "    </tr>\n",
       "  </thead>\n",
       "  <tbody>\n",
       "    <tr>\n",
       "      <th>0</th>\n",
       "      <td>Banking</td>\n",
       "      <td>Account Manager   Pensions Salary  circa   31 000   competitive commission scheme   benefits  28 days  holiday   annual bonus   pension   flex benefits  Work for the largest mutual life  pensions and investment company in the UK  with Group funds under management of  100 billion  Group businesses provide around 9 1 million policies and employ 3 253 people   Figures quoted are as at 31 December 2016   We have an exciting Permanent opportunity for an Account Manager to join the Intermediary Account Management Team in Edinburgh in a high performing  hybrid panel role  Working from a central Edinburgh based office  the purpose of this role is to deliver agreed new business targets from an existing panel of Intermediaries through providing a high level of service   maintaining excellent working relationships with key clients and promoting the provider s proposition  Responsibilities  Deliver personal sales targets from a panel of Intermediaries Develop new Intermediary relationships Deliver sales presentations to Intermediaries promoting new and existing sales opportunities Identify and promote new sales opportunities by telephone   face to face Develop and maintain strong business relationships with panel Intermediaries Ensure a smooth efficient and professional sales process for the customer Work with Intermediaries to ensure an excellent and professional service is provided Engage  align and work with appropriate colleagues and resources to maximise profitable new business production and to protect existing business Communicate requirements clearly and effectively with colleagues to ensure customer needs are identified and satisfied Create  maintain and deliver plan to develop a panel of intermediaries Skills  Qualifications   Experience  Experience within a similar sales or account management role within Pensions Knowledge and understanding of the IFA   Intermediary market RO1   RO4 Qualifications would be advantageous Confident in understanding technology used by advisers including research  analysis systems  platforms etc Experience in dealing with intermediaries in a face to face or telephone role Excellent communication skills both written and verbal Ability to discuss and debate industry issues  technical   legislative updates in a competent and influential manner To apply  please use the  Apply Online  link below  For any further queries regarding the role  please contact                                        or call              Apply Now 1 Click Apply Ref no  105707 AMUPEN 2657339941 This vacancy is being advertised by Sanderson Recruitment  The services advertised by Sanderson Recruitment are those of an Employment Agency</td>\n",
       "    </tr>\n",
       "  </tbody>\n",
       "</table>\n",
       "</div>"
      ],
      "text/plain": [
       "     label  \\\n",
       "0  Banking   \n",
       "\n",
       "                                                                                                                                                                                                                                                                                                                                                                                                                                                                                                                                                                                                                                                                                                                                                                                                                                                                                                                                                                                                                                                                                                                                                                                                                                                                                                                                                                                                                                                                                                                                                                                                                                                                                                                                                                                                                                                                                                                                                                                                                                                                                                                                                                                                                                                                                                                                                                                                                                                                                                                                                                                                                                                                                                                                                                                      text  \n",
       "0  Account Manager   Pensions Salary  circa   31 000   competitive commission scheme   benefits  28 days  holiday   annual bonus   pension   flex benefits  Work for the largest mutual life  pensions and investment company in the UK  with Group funds under management of  100 billion  Group businesses provide around 9 1 million policies and employ 3 253 people   Figures quoted are as at 31 December 2016   We have an exciting Permanent opportunity for an Account Manager to join the Intermediary Account Management Team in Edinburgh in a high performing  hybrid panel role  Working from a central Edinburgh based office  the purpose of this role is to deliver agreed new business targets from an existing panel of Intermediaries through providing a high level of service   maintaining excellent working relationships with key clients and promoting the provider s proposition  Responsibilities  Deliver personal sales targets from a panel of Intermediaries Develop new Intermediary relationships Deliver sales presentations to Intermediaries promoting new and existing sales opportunities Identify and promote new sales opportunities by telephone   face to face Develop and maintain strong business relationships with panel Intermediaries Ensure a smooth efficient and professional sales process for the customer Work with Intermediaries to ensure an excellent and professional service is provided Engage  align and work with appropriate colleagues and resources to maximise profitable new business production and to protect existing business Communicate requirements clearly and effectively with colleagues to ensure customer needs are identified and satisfied Create  maintain and deliver plan to develop a panel of intermediaries Skills  Qualifications   Experience  Experience within a similar sales or account management role within Pensions Knowledge and understanding of the IFA   Intermediary market RO1   RO4 Qualifications would be advantageous Confident in understanding technology used by advisers including research  analysis systems  platforms etc Experience in dealing with intermediaries in a face to face or telephone role Excellent communication skills both written and verbal Ability to discuss and debate industry issues  technical   legislative updates in a competent and influential manner To apply  please use the  Apply Online  link below  For any further queries regarding the role  please contact                                        or call              Apply Now 1 Click Apply Ref no  105707 AMUPEN 2657339941 This vacancy is being advertised by Sanderson Recruitment  The services advertised by Sanderson Recruitment are those of an Employment Agency   "
      ]
     },
     "execution_count": 5,
     "metadata": {},
     "output_type": "execute_result"
    }
   ],
   "source": [
    "data['text'] = data['text'].apply(lambda x: re.sub(r\"[|‘|’|'|>|<|_|¢|#|£|+|&|]\",r' ',x))\n",
    "data['text'] = data['text'].apply(lambda x: re.sub(r'[|^|=|~|…|,|*|”|“|\"|\"|%|/|@|(|)|]',r' ',x))\n",
    "data['text'] = data['text'].apply(lambda x : re.sub(\"[\\(\\[].*?[\\)\\]]\", r' ', x))\n",
    "data['text'] = data['text'].apply(lambda x: re.sub(r'[?|$|.|!|]',r' ',x))\n",
    "data['text'] = data.text.str.replace(\"-\",\" \")\n",
    "data['text'] = data.text.str.replace(\"—\",\" \")\n",
    "data['text'] = data.text.str.replace(\"–\",\" \")\n",
    "data['text'] = data.text.str.replace(\":\",\" \")\n",
    "data['text'] = data.text.str.replace(\"¦\",\" \")\n",
    "data['text'] = data.text.str.replace(\";\",\" \")\n",
    "data['text'] = data.text.str.replace(\"â€™\",\" \")\n",
    "data['text'] = data.text.str.replace(\"â€\",\" \")\n",
    "data['text'] = data.text.str.replace(\"â\",\"a\")\n",
    "data['text'] = data.text.str.replace(\"Â\",\"a\")\n",
    "data['text'] = data.text.str.replace(\"┬ú\",\" \")\n",
    "\n",
    "data.head(1)"
   ]
  },
  {
   "cell_type": "markdown",
   "metadata": {},
   "source": [
    "#### Remove Lower case words"
   ]
  },
  {
   "cell_type": "code",
   "execution_count": 6,
   "metadata": {
    "collapsed": true
   },
   "outputs": [],
   "source": [
    "data['text'] = data['text'].apply(lambda x : x.lower())"
   ]
  },
  {
   "cell_type": "markdown",
   "metadata": {},
   "source": [
    "#### Remove stopwords"
   ]
  },
  {
   "cell_type": "code",
   "execution_count": 7,
   "metadata": {
    "collapsed": true
   },
   "outputs": [],
   "source": [
    "# Update stopword list - Customization\n",
    "eng_stopwords.extend(['now','click','apply','ref','mv' , 'etc'])\n",
    "\n",
    "data['text'] = data['text'].apply(lambda x: ' '.join([word for word in x.split() if word not in (eng_stopwords)]))"
   ]
  },
  {
   "cell_type": "code",
   "execution_count": 32,
   "metadata": {
    "collapsed": true
   },
   "outputs": [],
   "source": [
    "# Juck words starting with y\n",
    "\n",
    "data['text'] = data['text'].apply(lambda x: ' '.join([word for word in x.split() if not word.startswith('γ')]))"
   ]
  },
  {
   "cell_type": "markdown",
   "metadata": {},
   "source": [
    "#### Remove digits "
   ]
  },
  {
   "cell_type": "code",
   "execution_count": 33,
   "metadata": {
    "collapsed": true
   },
   "outputs": [],
   "source": [
    "data['text'] = data['text'].apply(lambda x: re.sub(r\"\\d+\",r'',x))"
   ]
  },
  {
   "cell_type": "markdown",
   "metadata": {},
   "source": [
    "#### Remove extra spaces"
   ]
  },
  {
   "cell_type": "code",
   "execution_count": 34,
   "metadata": {},
   "outputs": [
    {
     "data": {
      "text/html": [
       "<div>\n",
       "<style>\n",
       "    .dataframe thead tr:only-child th {\n",
       "        text-align: right;\n",
       "    }\n",
       "\n",
       "    .dataframe thead th {\n",
       "        text-align: left;\n",
       "    }\n",
       "\n",
       "    .dataframe tbody tr th {\n",
       "        vertical-align: top;\n",
       "    }\n",
       "</style>\n",
       "<table border=\"1\" class=\"dataframe\">\n",
       "  <thead>\n",
       "    <tr style=\"text-align: right;\">\n",
       "      <th></th>\n",
       "      <th>label</th>\n",
       "      <th>text</th>\n",
       "    </tr>\n",
       "  </thead>\n",
       "  <tbody>\n",
       "    <tr>\n",
       "      <th>0</th>\n",
       "      <td>Banking</td>\n",
       "      <td>account manager pension salary circa competitive commission scheme benefit day holiday annual bonus pension flex benefit work largest mutual life pension investment company group fund management billion group business provide around million policy employ people figure quoted december exciting permanent opportunity account manager join intermediary account management team edinburgh high performing hybrid panel role working central edinburgh based office purpose role deliver agreed new business target existing panel intermediary providing high level service maintaining excellent working relationship key client promoting provider proposition responsibility deliver personal sale target panel intermediary develop new intermediary relationship deliver sale presentation intermediary promoting new existing sale opportunity identify promote new sale opportunity telephone face face develop maintain strong business relationship panel intermediary ensure smooth efficient professional sale process customer work intermediary ensure excellent professional service provided engage align work appropriate colleague resource maximise profitable new business production protect existing business communicate requirement clearly effectively colleague ensure customer need identified satisfied create maintain deliver plan develop panel intermediary skill qualification experience experience within similar sale account management role within pension knowledge understanding ifa intermediary market qualification would advantageous confident understanding technology used adviser including research analysis system platform experience dealing intermediary face face telephone role excellent communication skill written verbal ability discus debate industry issue technical legislative update competent influential manner please use online link query regarding role please contact call amupen vacancy advertised sanderson recruitment service advertised sanderson recruitment employment agency</td>\n",
       "    </tr>\n",
       "  </tbody>\n",
       "</table>\n",
       "</div>"
      ],
      "text/plain": [
       "     label  \\\n",
       "0  Banking   \n",
       "\n",
       "                                                                                                                                                                                                                                                                                                                                                                                                                                                                                                                                                                                                                                                                                                                                                                                                                                                                                                                                                                                                                                                                                                                                                                                                                                                                                                                                                                                                                                                                                                                                                                                                                                                                                                                                                                                                                                                                                                                                                                                                                                                                 text  \n",
       "0  account manager pension salary circa competitive commission scheme benefit day holiday annual bonus pension flex benefit work largest mutual life pension investment company group fund management billion group business provide around million policy employ people figure quoted december exciting permanent opportunity account manager join intermediary account management team edinburgh high performing hybrid panel role working central edinburgh based office purpose role deliver agreed new business target existing panel intermediary providing high level service maintaining excellent working relationship key client promoting provider proposition responsibility deliver personal sale target panel intermediary develop new intermediary relationship deliver sale presentation intermediary promoting new existing sale opportunity identify promote new sale opportunity telephone face face develop maintain strong business relationship panel intermediary ensure smooth efficient professional sale process customer work intermediary ensure excellent professional service provided engage align work appropriate colleague resource maximise profitable new business production protect existing business communicate requirement clearly effectively colleague ensure customer need identified satisfied create maintain deliver plan develop panel intermediary skill qualification experience experience within similar sale account management role within pension knowledge understanding ifa intermediary market qualification would advantageous confident understanding technology used adviser including research analysis system platform experience dealing intermediary face face telephone role excellent communication skill written verbal ability discus debate industry issue technical legislative update competent influential manner please use online link query regarding role please contact call amupen vacancy advertised sanderson recruitment service advertised sanderson recruitment employment agency  "
      ]
     },
     "execution_count": 34,
     "metadata": {},
     "output_type": "execute_result"
    }
   ],
   "source": [
    "data['text'] = data['text'].apply(lambda x: re.sub(\"\\s\\s+\", \" \", x))\n",
    "\n",
    "data.head(1)"
   ]
  },
  {
   "cell_type": "markdown",
   "metadata": {},
   "source": [
    "#### Lematiation"
   ]
  },
  {
   "cell_type": "code",
   "execution_count": 27,
   "metadata": {},
   "outputs": [
    {
     "data": {
      "text/html": [
       "<div>\n",
       "<style>\n",
       "    .dataframe thead tr:only-child th {\n",
       "        text-align: right;\n",
       "    }\n",
       "\n",
       "    .dataframe thead th {\n",
       "        text-align: left;\n",
       "    }\n",
       "\n",
       "    .dataframe tbody tr th {\n",
       "        vertical-align: top;\n",
       "    }\n",
       "</style>\n",
       "<table border=\"1\" class=\"dataframe\">\n",
       "  <thead>\n",
       "    <tr style=\"text-align: right;\">\n",
       "      <th></th>\n",
       "      <th>label</th>\n",
       "      <th>text</th>\n",
       "    </tr>\n",
       "  </thead>\n",
       "  <tbody>\n",
       "    <tr>\n",
       "      <th>0</th>\n",
       "      <td>Banking</td>\n",
       "      <td>account manager pension salary circa competitive commission scheme benefit day holiday annual bonus pension flex benefit work largest mutual life pension investment company group fund management billion group business provide around million policy employ people figure quoted december exciting permanent opportunity account manager join intermediary account management team edinburgh high performing hybrid panel role working central edinburgh based office purpose role deliver agreed new business target existing panel intermediary providing high level service maintaining excellent working relationship key client promoting provider proposition responsibility deliver personal sale target panel intermediary develop new intermediary relationship deliver sale presentation intermediary promoting new existing sale opportunity identify promote new sale opportunity telephone face face develop maintain strong business relationship panel intermediary ensure smooth efficient professional sale process customer work intermediary ensure excellent professional service provided engage align work appropriate colleague resource maximise profitable new business production protect existing business communicate requirement clearly effectively colleague ensure customer need identified satisfied create maintain deliver plan develop panel intermediary skill qualification experience experience within similar sale account management role within pension knowledge understanding ifa intermediary market qualification would advantageous confident understanding technology used adviser including research analysis system platform experience dealing intermediary face face telephone role excellent communication skill written verbal ability discus debate industry issue technical legislative update competent influential manner please use online link query regarding role please contact call amupen vacancy advertised sanderson recruitment service advertised sanderson recruitment employment agency</td>\n",
       "    </tr>\n",
       "  </tbody>\n",
       "</table>\n",
       "</div>"
      ],
      "text/plain": [
       "     label  \\\n",
       "0  Banking   \n",
       "\n",
       "                                                                                                                                                                                                                                                                                                                                                                                                                                                                                                                                                                                                                                                                                                                                                                                                                                                                                                                                                                                                                                                                                                                                                                                                                                                                                                                                                                                                                                                                                                                                                                                                                                                                                                                                                                                                                                                                                                                                                                                                                                                                 text  \n",
       "0  account manager pension salary circa competitive commission scheme benefit day holiday annual bonus pension flex benefit work largest mutual life pension investment company group fund management billion group business provide around million policy employ people figure quoted december exciting permanent opportunity account manager join intermediary account management team edinburgh high performing hybrid panel role working central edinburgh based office purpose role deliver agreed new business target existing panel intermediary providing high level service maintaining excellent working relationship key client promoting provider proposition responsibility deliver personal sale target panel intermediary develop new intermediary relationship deliver sale presentation intermediary promoting new existing sale opportunity identify promote new sale opportunity telephone face face develop maintain strong business relationship panel intermediary ensure smooth efficient professional sale process customer work intermediary ensure excellent professional service provided engage align work appropriate colleague resource maximise profitable new business production protect existing business communicate requirement clearly effectively colleague ensure customer need identified satisfied create maintain deliver plan develop panel intermediary skill qualification experience experience within similar sale account management role within pension knowledge understanding ifa intermediary market qualification would advantageous confident understanding technology used adviser including research analysis system platform experience dealing intermediary face face telephone role excellent communication skill written verbal ability discus debate industry issue technical legislative update competent influential manner please use online link query regarding role please contact call amupen vacancy advertised sanderson recruitment service advertised sanderson recruitment employment agency  "
      ]
     },
     "execution_count": 27,
     "metadata": {},
     "output_type": "execute_result"
    }
   ],
   "source": [
    "from nltk.stem import WordNetLemmatizer \n",
    "wordnet_lemmatizer = WordNetLemmatizer()\n",
    "data['text'] = data['text'].apply(lambda x: ' '.join([wordnet_lemmatizer.lemmatize(word) for word in x.split() ]))\n",
    "data.head(1)"
   ]
  },
  {
   "cell_type": "markdown",
   "metadata": {},
   "source": [
    "#### Remove words with less than 3 characters "
   ]
  },
  {
   "cell_type": "code",
   "execution_count": 35,
   "metadata": {},
   "outputs": [
    {
     "data": {
      "text/html": [
       "<div>\n",
       "<style>\n",
       "    .dataframe thead tr:only-child th {\n",
       "        text-align: right;\n",
       "    }\n",
       "\n",
       "    .dataframe thead th {\n",
       "        text-align: left;\n",
       "    }\n",
       "\n",
       "    .dataframe tbody tr th {\n",
       "        vertical-align: top;\n",
       "    }\n",
       "</style>\n",
       "<table border=\"1\" class=\"dataframe\">\n",
       "  <thead>\n",
       "    <tr style=\"text-align: right;\">\n",
       "      <th></th>\n",
       "      <th>label</th>\n",
       "      <th>text</th>\n",
       "    </tr>\n",
       "  </thead>\n",
       "  <tbody>\n",
       "    <tr>\n",
       "      <th>0</th>\n",
       "      <td>Banking</td>\n",
       "      <td>account manager pension salary circa competitive commission scheme benefit day holiday annual bonus pension flex benefit work largest mutual life pension investment company group fund management billion group business provide around million policy employ people figure quoted december exciting permanent opportunity account manager join intermediary account management team edinburgh high performing hybrid panel role working central edinburgh based office purpose role deliver agreed new business target existing panel intermediary providing high level service maintaining excellent working relationship key client promoting provider proposition responsibility deliver personal sale target panel intermediary develop new intermediary relationship deliver sale presentation intermediary promoting new existing sale opportunity identify promote new sale opportunity telephone face face develop maintain strong business relationship panel intermediary ensure smooth efficient professional sale process customer work intermediary ensure excellent professional service provided engage align work appropriate colleague resource maximise profitable new business production protect existing business communicate requirement clearly effectively colleague ensure customer need identified satisfied create maintain deliver plan develop panel intermediary skill qualification experience experience within similar sale account management role within pension knowledge understanding ifa intermediary market qualification would advantageous confident understanding technology used adviser including research analysis system platform experience dealing intermediary face face telephone role excellent communication skill written verbal ability discus debate industry issue technical legislative update competent influential manner please use online link query regarding role please contact call amupen vacancy advertised sanderson recruitment service advertised sanderson recruitment employment agency</td>\n",
       "    </tr>\n",
       "  </tbody>\n",
       "</table>\n",
       "</div>"
      ],
      "text/plain": [
       "     label  \\\n",
       "0  Banking   \n",
       "\n",
       "                                                                                                                                                                                                                                                                                                                                                                                                                                                                                                                                                                                                                                                                                                                                                                                                                                                                                                                                                                                                                                                                                                                                                                                                                                                                                                                                                                                                                                                                                                                                                                                                                                                                                                                                                                                                                                                                                                                                                                                                                                                                 text  \n",
       "0  account manager pension salary circa competitive commission scheme benefit day holiday annual bonus pension flex benefit work largest mutual life pension investment company group fund management billion group business provide around million policy employ people figure quoted december exciting permanent opportunity account manager join intermediary account management team edinburgh high performing hybrid panel role working central edinburgh based office purpose role deliver agreed new business target existing panel intermediary providing high level service maintaining excellent working relationship key client promoting provider proposition responsibility deliver personal sale target panel intermediary develop new intermediary relationship deliver sale presentation intermediary promoting new existing sale opportunity identify promote new sale opportunity telephone face face develop maintain strong business relationship panel intermediary ensure smooth efficient professional sale process customer work intermediary ensure excellent professional service provided engage align work appropriate colleague resource maximise profitable new business production protect existing business communicate requirement clearly effectively colleague ensure customer need identified satisfied create maintain deliver plan develop panel intermediary skill qualification experience experience within similar sale account management role within pension knowledge understanding ifa intermediary market qualification would advantageous confident understanding technology used adviser including research analysis system platform experience dealing intermediary face face telephone role excellent communication skill written verbal ability discus debate industry issue technical legislative update competent influential manner please use online link query regarding role please contact call amupen vacancy advertised sanderson recruitment service advertised sanderson recruitment employment agency  "
      ]
     },
     "execution_count": 35,
     "metadata": {},
     "output_type": "execute_result"
    }
   ],
   "source": [
    "data['text'] = data['text'].apply(lambda x: re.sub(r'\\W*\\b\\w{1,2}\\b',r' ',x))\n",
    "data.head(1)"
   ]
  },
  {
   "cell_type": "markdown",
   "metadata": {
    "collapsed": true
   },
   "source": [
    "# Modelling "
   ]
  },
  {
   "cell_type": "markdown",
   "metadata": {},
   "source": [
    "#### Converting dataset into tf-idf "
   ]
  },
  {
   "cell_type": "code",
   "execution_count": 70,
   "metadata": {
    "collapsed": true
   },
   "outputs": [],
   "source": [
    "n_features = 4000\n",
    "\n",
    "tfidf_vectorizer = TfidfVectorizer(max_df=0.95, min_df=2,\n",
    "                                   max_features=n_features,\n",
    "                                   stop_words='english')\n",
    "\n",
    "tfidf = tfidf_vectorizer.fit_transform(data.text)"
   ]
  },
  {
   "cell_type": "code",
   "execution_count": 46,
   "metadata": {
    "collapsed": true
   },
   "outputs": [],
   "source": [
    "import pickle\n",
    "pickle.dump(tfidf_vectorizer.vocabulary_,open(\"vocab.pkl\",\"wb\"))"
   ]
  },
  {
   "cell_type": "markdown",
   "metadata": {},
   "source": [
    "#### Converting into Dataframe with featurename"
   ]
  },
  {
   "cell_type": "code",
   "execution_count": 71,
   "metadata": {
    "scrolled": true
   },
   "outputs": [
    {
     "data": {
      "text/html": [
       "<div>\n",
       "<style>\n",
       "    .dataframe thead tr:only-child th {\n",
       "        text-align: right;\n",
       "    }\n",
       "\n",
       "    .dataframe thead th {\n",
       "        text-align: left;\n",
       "    }\n",
       "\n",
       "    .dataframe tbody tr th {\n",
       "        vertical-align: top;\n",
       "    }\n",
       "</style>\n",
       "<table border=\"1\" class=\"dataframe\">\n",
       "  <thead>\n",
       "    <tr style=\"text-align: right;\">\n",
       "      <th></th>\n",
       "      <th>abbot</th>\n",
       "      <th>ability</th>\n",
       "      <th>able</th>\n",
       "      <th>aboutyourecruit</th>\n",
       "      <th>abpi</th>\n",
       "      <th>abreast</th>\n",
       "      <th>abroad</th>\n",
       "      <th>absence</th>\n",
       "      <th>aca</th>\n",
       "      <th>academia</th>\n",
       "      <th>...</th>\n",
       "      <th>www</th>\n",
       "      <th>wycombe</th>\n",
       "      <th>xamarin</th>\n",
       "      <th>xaml</th>\n",
       "      <th>xml</th>\n",
       "      <th>xpath</th>\n",
       "      <th>xslt</th>\n",
       "      <th>zend</th>\n",
       "      <th>zone</th>\n",
       "      <th>óeur</th>\n",
       "    </tr>\n",
       "  </thead>\n",
       "  <tbody>\n",
       "    <tr>\n",
       "      <th>0</th>\n",
       "      <td>0.0</td>\n",
       "      <td>0.019733</td>\n",
       "      <td>0.000000</td>\n",
       "      <td>0.0</td>\n",
       "      <td>0.0</td>\n",
       "      <td>0.0</td>\n",
       "      <td>0.0</td>\n",
       "      <td>0.0</td>\n",
       "      <td>0.0</td>\n",
       "      <td>0.0</td>\n",
       "      <td>...</td>\n",
       "      <td>0.0</td>\n",
       "      <td>0.0</td>\n",
       "      <td>0.0</td>\n",
       "      <td>0.0</td>\n",
       "      <td>0.0</td>\n",
       "      <td>0.0</td>\n",
       "      <td>0.0</td>\n",
       "      <td>0.0</td>\n",
       "      <td>0.0</td>\n",
       "      <td>0.0</td>\n",
       "    </tr>\n",
       "    <tr>\n",
       "      <th>1</th>\n",
       "      <td>0.0</td>\n",
       "      <td>0.019947</td>\n",
       "      <td>0.000000</td>\n",
       "      <td>0.0</td>\n",
       "      <td>0.0</td>\n",
       "      <td>0.0</td>\n",
       "      <td>0.0</td>\n",
       "      <td>0.0</td>\n",
       "      <td>0.0</td>\n",
       "      <td>0.0</td>\n",
       "      <td>...</td>\n",
       "      <td>0.0</td>\n",
       "      <td>0.0</td>\n",
       "      <td>0.0</td>\n",
       "      <td>0.0</td>\n",
       "      <td>0.0</td>\n",
       "      <td>0.0</td>\n",
       "      <td>0.0</td>\n",
       "      <td>0.0</td>\n",
       "      <td>0.0</td>\n",
       "      <td>0.0</td>\n",
       "    </tr>\n",
       "    <tr>\n",
       "      <th>2</th>\n",
       "      <td>0.0</td>\n",
       "      <td>0.000000</td>\n",
       "      <td>0.089148</td>\n",
       "      <td>0.0</td>\n",
       "      <td>0.0</td>\n",
       "      <td>0.0</td>\n",
       "      <td>0.0</td>\n",
       "      <td>0.0</td>\n",
       "      <td>0.0</td>\n",
       "      <td>0.0</td>\n",
       "      <td>...</td>\n",
       "      <td>0.0</td>\n",
       "      <td>0.0</td>\n",
       "      <td>0.0</td>\n",
       "      <td>0.0</td>\n",
       "      <td>0.0</td>\n",
       "      <td>0.0</td>\n",
       "      <td>0.0</td>\n",
       "      <td>0.0</td>\n",
       "      <td>0.0</td>\n",
       "      <td>0.0</td>\n",
       "    </tr>\n",
       "    <tr>\n",
       "      <th>3</th>\n",
       "      <td>0.0</td>\n",
       "      <td>0.000000</td>\n",
       "      <td>0.089027</td>\n",
       "      <td>0.0</td>\n",
       "      <td>0.0</td>\n",
       "      <td>0.0</td>\n",
       "      <td>0.0</td>\n",
       "      <td>0.0</td>\n",
       "      <td>0.0</td>\n",
       "      <td>0.0</td>\n",
       "      <td>...</td>\n",
       "      <td>0.0</td>\n",
       "      <td>0.0</td>\n",
       "      <td>0.0</td>\n",
       "      <td>0.0</td>\n",
       "      <td>0.0</td>\n",
       "      <td>0.0</td>\n",
       "      <td>0.0</td>\n",
       "      <td>0.0</td>\n",
       "      <td>0.0</td>\n",
       "      <td>0.0</td>\n",
       "    </tr>\n",
       "    <tr>\n",
       "      <th>4</th>\n",
       "      <td>0.0</td>\n",
       "      <td>0.041985</td>\n",
       "      <td>0.000000</td>\n",
       "      <td>0.0</td>\n",
       "      <td>0.0</td>\n",
       "      <td>0.0</td>\n",
       "      <td>0.0</td>\n",
       "      <td>0.0</td>\n",
       "      <td>0.0</td>\n",
       "      <td>0.0</td>\n",
       "      <td>...</td>\n",
       "      <td>0.0</td>\n",
       "      <td>0.0</td>\n",
       "      <td>0.0</td>\n",
       "      <td>0.0</td>\n",
       "      <td>0.0</td>\n",
       "      <td>0.0</td>\n",
       "      <td>0.0</td>\n",
       "      <td>0.0</td>\n",
       "      <td>0.0</td>\n",
       "      <td>0.0</td>\n",
       "    </tr>\n",
       "  </tbody>\n",
       "</table>\n",
       "<p>5 rows × 4000 columns</p>\n",
       "</div>"
      ],
      "text/plain": [
       "   abbot   ability      able  aboutyourecruit  abpi  abreast  abroad  absence  \\\n",
       "0    0.0  0.019733  0.000000              0.0   0.0      0.0     0.0      0.0   \n",
       "1    0.0  0.019947  0.000000              0.0   0.0      0.0     0.0      0.0   \n",
       "2    0.0  0.000000  0.089148              0.0   0.0      0.0     0.0      0.0   \n",
       "3    0.0  0.000000  0.089027              0.0   0.0      0.0     0.0      0.0   \n",
       "4    0.0  0.041985  0.000000              0.0   0.0      0.0     0.0      0.0   \n",
       "\n",
       "   aca  academia  ...   www  wycombe  xamarin  xaml  xml  xpath  xslt  zend  \\\n",
       "0  0.0       0.0  ...   0.0      0.0      0.0   0.0  0.0    0.0   0.0   0.0   \n",
       "1  0.0       0.0  ...   0.0      0.0      0.0   0.0  0.0    0.0   0.0   0.0   \n",
       "2  0.0       0.0  ...   0.0      0.0      0.0   0.0  0.0    0.0   0.0   0.0   \n",
       "3  0.0       0.0  ...   0.0      0.0      0.0   0.0  0.0    0.0   0.0   0.0   \n",
       "4  0.0       0.0  ...   0.0      0.0      0.0   0.0  0.0    0.0   0.0   0.0   \n",
       "\n",
       "   zone  óeur  \n",
       "0   0.0   0.0  \n",
       "1   0.0   0.0  \n",
       "2   0.0   0.0  \n",
       "3   0.0   0.0  \n",
       "4   0.0   0.0  \n",
       "\n",
       "[5 rows x 4000 columns]"
      ]
     },
     "execution_count": 71,
     "metadata": {},
     "output_type": "execute_result"
    }
   ],
   "source": [
    "tfidf = pd.DataFrame(tfidf.toarray(), columns = tfidf_vectorizer.get_feature_names())\n",
    "tfidf.head()"
   ]
  },
  {
   "cell_type": "markdown",
   "metadata": {},
   "source": [
    "#### Converting into numpy array , which later to be consumed by Model "
   ]
  },
  {
   "cell_type": "code",
   "execution_count": 72,
   "metadata": {
    "collapsed": true
   },
   "outputs": [],
   "source": [
    "data_features = tfidf.values"
   ]
  },
  {
   "cell_type": "code",
   "execution_count": 73,
   "metadata": {
    "collapsed": true
   },
   "outputs": [],
   "source": [
    "dict_tgt = {'Banking':1,\n",
    " 'Construction':2,\n",
    " 'Contruction':2,\n",
    " 'Energy':3,\n",
    " 'Health':4,\n",
    " 'Insurance':5,\n",
    " 'Manufacturing':6,\n",
    " 'Oil and Gas':7,\n",
    " 'Technology':8}\n",
    "\n",
    "train_labels = data.label.map(dict_tgt)"
   ]
  },
  {
   "cell_type": "markdown",
   "metadata": {},
   "source": [
    "#### Splitting dataset into train and test "
   ]
  },
  {
   "cell_type": "code",
   "execution_count": 74,
   "metadata": {},
   "outputs": [
    {
     "name": "stdout",
     "output_type": "stream",
     "text": [
      "(3189, 4000)\n",
      "(1368, 4000)\n"
     ]
    }
   ],
   "source": [
    "from sklearn.model_selection import train_test_split\n",
    "X_train, X_test, y_train, y_test = train_test_split(data_features, data_lables, test_size=0.30, random_state=492)\n",
    "print(X_train.shape)\n",
    "print(X_test.shape)"
   ]
  },
  {
   "cell_type": "markdown",
   "metadata": {},
   "source": [
    "### Naive Bayes Algorithm"
   ]
  },
  {
   "cell_type": "code",
   "execution_count": 75,
   "metadata": {},
   "outputs": [
    {
     "name": "stdout",
     "output_type": "stream",
     "text": [
      "Training Score 0.949827532142\n",
      "testing Score 0.90716374269\n"
     ]
    }
   ],
   "source": [
    "from sklearn.naive_bayes import GaussianNB\n",
    "gnb = GaussianNB()\n",
    "\n",
    "gnb.fit(X_train, y_train)\n",
    "\n",
    "print('Training Score',gnb.score(X_train, y_train))\n",
    "print('testing Score',gnb.score(X_test, y_test))"
   ]
  },
  {
   "cell_type": "markdown",
   "metadata": {},
   "source": [
    "### Logistic Regression Algorithm"
   ]
  },
  {
   "cell_type": "code",
   "execution_count": 76,
   "metadata": {},
   "outputs": [
    {
     "name": "stdout",
     "output_type": "stream",
     "text": [
      "Training Score 0.960489181562\n",
      "testing Score 0.948830409357\n",
      "Number of features used: 66\n"
     ]
    }
   ],
   "source": [
    "# so we will use aplha as 10 because post that test error no more decrease thus model overfits afterwards \n",
    "\n",
    "from sklearn.linear_model import LogisticRegression\n",
    "lr = LogisticRegression(C=1, class_weight=None, dual=False, fit_intercept=True,\n",
    "          intercept_scaling=1, max_iter=1000, multi_class='ovr', n_jobs=1,\n",
    "          penalty='l1', random_state=None, solver='liblinear', tol=0.0001,\n",
    "          verbose=0, warm_start=False)  \n",
    "lr.fit(X_train, y_train)\n",
    "\n",
    "print('Training Score',lr.score(X_train, y_train))\n",
    "print('testing Score',lr.score(X_test, y_test))\n",
    "print(\"Number of features used: {}\".format(np.sum(lr.coef_ != 0)))"
   ]
  },
  {
   "cell_type": "markdown",
   "metadata": {},
   "source": [
    "### Random Forest"
   ]
  },
  {
   "cell_type": "code",
   "execution_count": 77,
   "metadata": {},
   "outputs": [
    {
     "name": "stdout",
     "output_type": "stream",
     "text": [
      "Training Score 0.97177798683\n",
      "testing Score 0.937134502924\n"
     ]
    }
   ],
   "source": [
    "from sklearn.ensemble import RandomForestClassifier\n",
    "from sklearn import grid_search\n",
    "\n",
    "rf = RandomForestClassifier(n_estimators=200, n_jobs=-1)\n",
    "parameters = {'max_features':['sqrt', 'log2'],\n",
    "              'max_depth':[5,10]}\n",
    "\n",
    "clf_grid = grid_search.GridSearchCV(rf, parameters)\n",
    "clf_grid.fit(X_train, y_train)\n",
    "\n",
    "print('Training Score',clf_grid.score(X_train, y_train))\n",
    "print('testing Score',clf_grid.score(X_test, y_test))"
   ]
  }
 ],
 "metadata": {
  "kernelspec": {
   "display_name": "Python 3",
   "language": "python",
   "name": "python3"
  },
  "language_info": {
   "codemirror_mode": {
    "name": "ipython",
    "version": 3
   },
   "file_extension": ".py",
   "mimetype": "text/x-python",
   "name": "python",
   "nbconvert_exporter": "python",
   "pygments_lexer": "ipython3",
   "version": "3.6.1"
  }
 },
 "nbformat": 4,
 "nbformat_minor": 2
}
